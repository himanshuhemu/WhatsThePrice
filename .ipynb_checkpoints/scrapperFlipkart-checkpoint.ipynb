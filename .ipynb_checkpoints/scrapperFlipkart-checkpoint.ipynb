{
 "cells": [
  {
   "cell_type": "code",
   "execution_count": 28,
   "metadata": {},
   "outputs": [],
   "source": [
    "from bs4 import BeautifulSoup\n",
    "import requests"
   ]
  },
  {
   "cell_type": "code",
   "execution_count": 132,
   "metadata": {},
   "outputs": [],
   "source": [
    "search_text=\"redmi 4a\"\n",
    "newText=search_text.replace(' ', '%20')\n"
   ]
  },
  {
   "cell_type": "code",
   "execution_count": 133,
   "metadata": {},
   "outputs": [
    {
     "data": {
      "text/plain": [
       "'https://www.flipkart.com/search?q=redmi%204a'"
      ]
     },
     "execution_count": 133,
     "metadata": {},
     "output_type": "execute_result"
    }
   ],
   "source": [
    "url=\"https://www.flipkart.com/search?q=\"+newText\n",
    "url"
   ]
  },
  {
   "cell_type": "code",
   "execution_count": 134,
   "metadata": {},
   "outputs": [],
   "source": [
    "headers = {'User-agent': 'Mozilla/5.0 (Windows NT 6.2; WOW64) AppleWebKit/537.36 (KHTML, like Gecko) Chrome/37.0.2062.120 Safari/537.36'}\n",
    "\n",
    "req=requests.get(url,headers=headers)\n",
    "soupe = BeautifulSoup(req.text,'lxml')\n",
    "#print(soupe)"
   ]
  },
  {
   "cell_type": "code",
   "execution_count": 135,
   "metadata": {},
   "outputs": [
    {
     "name": "stdout",
     "output_type": "stream",
     "text": [
      "https://www.flipkart.com/redmi-4a-dark-grey-32-gb/p/itmex8jcakg7tz6r?pid=MOBEWV2NZXYJFFHA&lid=LSTMOBEWV2NZXYJFFHAXDO6VD&marketplace=FLIPKART&srno=s_1_1&otracker=search&fm=organic&iid=a3ab5083-0472-4685-b3f5-e800fe575236.MOBEWV2NZXYJFFHA.SEARCH&qH=0700c5f2315e1a7b\n"
     ]
    }
   ],
   "source": [
    "for link in soupe.find_all(attrs={'class': '_3O0U0u'}):\n",
    "    for ab in link.find_all('a', href=True):\n",
    "         var= ab['href'] \n",
    "         break\n",
    "    break \n",
    "var= 'https://www.flipkart.com'+ var\n",
    "print(var)"
   ]
  },
  {
   "cell_type": "code",
   "execution_count": 136,
   "metadata": {},
   "outputs": [],
   "source": [
    "headers = {'User-agent': 'Mozilla/5.0 (Windows NT 6.2; WOW64) AppleWebKit/537.36 (KHTML, like Gecko) Chrome/37.0.2062.120 Safari/537.36'}\n",
    "newReq=requests.get(var,headers=headers)\n",
    "newSoup=BeautifulSoup(newReq.text,'lxml')"
   ]
  },
  {
   "cell_type": "code",
   "execution_count": null,
   "metadata": {},
   "outputs": [],
   "source": [
    "\n"
   ]
  },
  {
   "cell_type": "code",
   "execution_count": null,
   "metadata": {},
   "outputs": [],
   "source": []
  },
  {
   "cell_type": "code",
   "execution_count": 143,
   "metadata": {},
   "outputs": [
    {
     "name": "stdout",
     "output_type": "stream",
     "text": [
      "https://rukminim1.flixcart.com/image/128/128/j6wi0sw0/mobile/f/h/a/mi-redmi-4a-mzb5600in-original-imaex8mqw2yktath.jpeg?q=70\n"
     ]
    }
   ],
   "source": [
    "data = newSoup.findAll('div',attrs={'class':'_2_AcLJ'})\n",
    "for div in data:\n",
    "    lnk=div['style']\n",
    "    lnk=lnk.split('(')[1][:-1]\n",
    "    break\n",
    "print(lnk)"
   ]
  },
  {
   "cell_type": "code",
   "execution_count": 98,
   "metadata": {},
   "outputs": [
    {
     "name": "stdout",
     "output_type": "stream",
     "text": [
      "SanDisk Ultra Dual Drive M3.0 32 GB OTG Drive  (Type A to Micro USB)\n"
     ]
    }
   ],
   "source": [
    "#getting name of product\n",
    "ndreq=requests.get(var)\n",
    "soop=BeautifulSoup(ndreq.text,'html.parser')\n",
    "for tex in soop.find_all(class_='_35KyD6'):\n",
    "    fin=tex.text\n",
    "    print(fin)"
   ]
  },
  {
   "cell_type": "code",
   "execution_count": 11,
   "metadata": {},
   "outputs": [
    {
     "name": "stdout",
     "output_type": "stream",
     "text": [
      "₹2,499\n"
     ]
    }
   ],
   "source": [
    "#base proce\n",
    "rdreq=requests.get(var)\n",
    "suop=BeautifulSoup(rdreq.text,'html.parser')\n",
    "for price in suop.find_all(class_='_3auQ3N _1POkHg'):\n",
    "    print(price.text)"
   ]
  },
  {
   "cell_type": "code",
   "execution_count": 12,
   "metadata": {},
   "outputs": [
    {
     "name": "stdout",
     "output_type": "stream",
     "text": [
      "₹1,799\n"
     ]
    }
   ],
   "source": [
    "#flipkart price\n",
    "dreq=requests.get(var)\n",
    "suo=BeautifulSoup(dreq.text,'html.parser')\n",
    "for pric in suo.find_all(class_='_1vC4OE _3qQ9m1'):\n",
    "    print(pric.text)"
   ]
  },
  {
   "cell_type": "code",
   "execution_count": null,
   "metadata": {},
   "outputs": [],
   "source": []
  }
 ],
 "metadata": {
  "kernelspec": {
   "display_name": "Python 3",
   "language": "python",
   "name": "python3"
  },
  "language_info": {
   "codemirror_mode": {
    "name": "ipython",
    "version": 3
   },
   "file_extension": ".py",
   "mimetype": "text/x-python",
   "name": "python",
   "nbconvert_exporter": "python",
   "pygments_lexer": "ipython3",
   "version": "3.6.5"
  }
 },
 "nbformat": 4,
 "nbformat_minor": 2
}
