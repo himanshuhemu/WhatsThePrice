{
 "cells": [
  {
   "cell_type": "code",
   "execution_count": 1,
   "metadata": {},
   "outputs": [],
   "source": [
    "from bs4 import BeautifulSoup\n",
    "import requests"
   ]
  },
  {
   "cell_type": "code",
   "execution_count": 2,
   "metadata": {},
   "outputs": [],
   "source": [
    "search_text=\"pendrive   3.0\"\n",
    "newText=search_text.replace(' ', '+')\n"
   ]
  },
  {
   "cell_type": "code",
   "execution_count": 3,
   "metadata": {},
   "outputs": [
    {
     "data": {
      "text/plain": [
       "'https://www.amazon.in/s/ref=nb_sb_noss_2?url=search-alias%3Daps&field-keywords=pendrive+++3.0'"
      ]
     },
     "execution_count": 3,
     "metadata": {},
     "output_type": "execute_result"
    }
   ],
   "source": [
    "url=\"https://www.amazon.in/s/ref=nb_sb_noss_2?url=search-alias%3Daps&field-keywords=\"+newText\n",
    "url"
   ]
  },
  {
   "cell_type": "code",
   "execution_count": 4,
   "metadata": {},
   "outputs": [],
   "source": [
    "req=requests.get(url)\n",
    "soup = BeautifulSoup(req.text,'html.parser')\n",
    "#print(soup.prettify())"
   ]
  },
  {
   "cell_type": "code",
   "execution_count": 6,
   "metadata": {
    "scrolled": false
   },
   "outputs": [
    {
     "data": {
      "text/plain": [
       "' '"
      ]
     },
     "execution_count": 6,
     "metadata": {},
     "output_type": "execute_result"
    }
   ],
   "source": [
    "var =' '\n",
    "for link in soup.find_all(attrs={'class': 'a-row a-spacing-none'}):\n",
    "    for a in link.find_all('a', href=True):\n",
    "         var= a['href']\n",
    "         print(var)      \n",
    "    break        \n",
    "var"
   ]
  },
  {
   "cell_type": "code",
   "execution_count": 201,
   "metadata": {},
   "outputs": [
    {
     "name": "stdout",
     "output_type": "stream",
     "text": [
      "https://images-eu.ssl-images-amazon.com/images/I/31ALr6Ta60L._SX300_QL70_.jpg\n"
     ]
    }
   ],
   "source": [
    "newReq=requests.get(var)\n",
    "newSoup=BeautifulSoup(newReq.text,'html.parser')\n",
    "for ne in newSoup.find_all(class_='imgTagWrapper'):\n",
    "    \n",
    "    for link in ne.find_all('img',src=True):\n",
    "        print(link['src'])"
   ]
  },
  {
   "cell_type": "code",
   "execution_count": 170,
   "metadata": {},
   "outputs": [
    {
     "name": "stdout",
     "output_type": "stream",
     "text": [
      "SanDisk Ultra Dual 32GB USB 3.0 OTG Pen Drive\n"
     ]
    }
   ],
   "source": [
    "#getting name\n",
    "ndreq=requests.get(var)\n",
    "soop=BeautifulSoup(ndreq.text,'html.parser')\n",
    "for tex in soop.find_all('h1',class_='a-size-large'):\n",
    "    fin=tex.text\n",
    "    print(fin.strip())"
   ]
  },
  {
   "cell_type": "code",
   "execution_count": 171,
   "metadata": {},
   "outputs": [
    {
     "name": "stdout",
     "output_type": "stream",
     "text": [
      "    1,290.00\n"
     ]
    }
   ],
   "source": [
    "#base price\n",
    "rdreq=requests.get(var)\n",
    "suop=BeautifulSoup(rdreq.text,'html.parser')\n",
    "for price in suop.find_all(class_='a-text-strike'):\n",
    "    print(price.text)"
   ]
  },
  {
   "cell_type": "code",
   "execution_count": 173,
   "metadata": {},
   "outputs": [
    {
     "name": "stdout",
     "output_type": "stream",
     "text": [
      "   825.00\n"
     ]
    }
   ],
   "source": [
    "#amazon price\n",
    "dreq=requests.get(var)\n",
    "suo=BeautifulSoup(dreq.text,'html.parser')\n",
    "for pric in suo.find_all(id='priceblock_ourprice',class_='a-size-medium a-color-price'):\n",
    "    print(pric.text)"
   ]
  },
  {
   "cell_type": "code",
   "execution_count": null,
   "metadata": {},
   "outputs": [],
   "source": []
  }
 ],
 "metadata": {
  "kernelspec": {
   "display_name": "Python 3",
   "language": "python",
   "name": "python3"
  },
  "language_info": {
   "codemirror_mode": {
    "name": "ipython",
    "version": 3
   },
   "file_extension": ".py",
   "mimetype": "text/x-python",
   "name": "python",
   "nbconvert_exporter": "python",
   "pygments_lexer": "ipython3",
   "version": "3.6.5"
  }
 },
 "nbformat": 4,
 "nbformat_minor": 2
}
