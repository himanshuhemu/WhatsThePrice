{
 "cells": [
  {
   "cell_type": "code",
   "execution_count": 4,
   "metadata": {},
   "outputs": [],
   "source": [
    "from bs4 import BeautifulSoup\n",
    "import requests"
   ]
  },
  {
   "cell_type": "code",
   "execution_count": 109,
   "metadata": {},
   "outputs": [],
   "source": [
    "search_text=\"usb mouse\"\n",
    "newText=search_text.replace(' ', '%20')\n"
   ]
  },
  {
   "cell_type": "code",
   "execution_count": 110,
   "metadata": {},
   "outputs": [
    {
     "data": {
      "text/plain": [
       "'https://www.flipkart.com/search?q=usb%20mouse'"
      ]
     },
     "execution_count": 110,
     "metadata": {},
     "output_type": "execute_result"
    }
   ],
   "source": [
    "url=\"https://www.flipkart.com/search?q=\"+newText\n",
    "url"
   ]
  },
  {
   "cell_type": "code",
   "execution_count": 111,
   "metadata": {},
   "outputs": [],
   "source": [
    "req=requests.get(url)\n",
    "soupe = BeautifulSoup(req.text,'html.parser')\n",
    "#print(soup.prettify())"
   ]
  },
  {
   "cell_type": "code",
   "execution_count": 112,
   "metadata": {},
   "outputs": [],
   "source": [
    "for link in soupe.find_all(attrs={'class': '_3O0U0u'}):\n",
    "    for ab in link.find_all('a', href=True):\n",
    "         var= ab['href'] \n",
    "         break\n",
    "    break \n",
    "var= 'https://www.flipkart.com'+ var"
   ]
  },
  {
   "cell_type": "code",
   "execution_count": 113,
   "metadata": {},
   "outputs": [
    {
     "name": "stdout",
     "output_type": "stream",
     "text": [
      "https://rukminim1.flixcart.com/image/200/200/jffpoy80/mouse/t/h/k/dell-wm118-original-imaf3w6zbjqdv2yn.jpeg?q=90\n"
     ]
    }
   ],
   "source": [
    "#image Extraction\n",
    "newReq=requests.get(var)\n",
    "newSoup=BeautifulSoup(newReq.text,'html.parser')\n",
    "i=[]\n",
    "count=0\n",
    "for n in newSoup.find_all('img'):\n",
    "    i.append(n['src'])\n",
    "for t in i:\n",
    "    if 'https' in t.split(':'):\n",
    "        count+=1\n",
    "        if(count==2):\n",
    "            print(t)\n"
   ]
  },
  {
   "cell_type": "code",
   "execution_count": 115,
   "metadata": {},
   "outputs": [
    {
     "name": "stdout",
     "output_type": "stream",
     "text": [
      "Dell WM118 Wireless Optical Mouse  (2.4GHz Wireless, USB, Black)\n"
     ]
    }
   ],
   "source": [
    "#getting name of product\n",
    "ndreq=requests.get(var)\n",
    "soop=BeautifulSoup(ndreq.text,'html.parser')\n",
    "for tex in soop.find_all(class_='_35KyD6'):\n",
    "    fin=tex.text\n",
    "    print(fin)"
   ]
  },
  {
   "cell_type": "code",
   "execution_count": 11,
   "metadata": {},
   "outputs": [
    {
     "name": "stdout",
     "output_type": "stream",
     "text": [
      "₹2,499\n"
     ]
    }
   ],
   "source": [
    "#base proce\n",
    "rdreq=requests.get(var)\n",
    "suop=BeautifulSoup(rdreq.text,'html.parser')\n",
    "for price in suop.find_all(class_='_3auQ3N _1POkHg'):\n",
    "    print(price.text)"
   ]
  },
  {
   "cell_type": "code",
   "execution_count": 12,
   "metadata": {},
   "outputs": [
    {
     "name": "stdout",
     "output_type": "stream",
     "text": [
      "₹1,799\n"
     ]
    }
   ],
   "source": [
    "#flipkart price\n",
    "dreq=requests.get(var)\n",
    "suo=BeautifulSoup(dreq.text,'html.parser')\n",
    "for pric in suo.find_all(class_='_1vC4OE _3qQ9m1'):\n",
    "    print(pric.text)"
   ]
  },
  {
   "cell_type": "code",
   "execution_count": null,
   "metadata": {},
   "outputs": [],
   "source": []
  }
 ],
 "metadata": {
  "kernelspec": {
   "display_name": "Python 3",
   "language": "python",
   "name": "python3"
  },
  "language_info": {
   "codemirror_mode": {
    "name": "ipython",
    "version": 3
   },
   "file_extension": ".py",
   "mimetype": "text/x-python",
   "name": "python",
   "nbconvert_exporter": "python",
   "pygments_lexer": "ipython3",
   "version": "3.6.4"
  }
 },
 "nbformat": 4,
 "nbformat_minor": 2
}
