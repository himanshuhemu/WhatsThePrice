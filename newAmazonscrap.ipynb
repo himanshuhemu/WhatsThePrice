{
 "cells": [
  {
   "cell_type": "code",
   "execution_count": 1,
   "metadata": {},
   "outputs": [],
   "source": [
    "from bs4 import BeautifulSoup\n",
    "import requests"
   ]
  },
  {
   "cell_type": "code",
   "execution_count": 2,
   "metadata": {},
   "outputs": [
    {
     "name": "stdout",
     "output_type": "stream",
     "text": [
      "redmi 4\n"
     ]
    }
   ],
   "source": [
    "search_text=input()\n",
    "newText=search_text.replace(' ', '+')"
   ]
  },
  {
   "cell_type": "code",
   "execution_count": 3,
   "metadata": {},
   "outputs": [
    {
     "data": {
      "text/plain": [
       "'https://www.amazon.in/s/ref=nb_sb_noss_2?url=search-alias%3Daps&field-keywords=redmi+4'"
      ]
     },
     "execution_count": 3,
     "metadata": {},
     "output_type": "execute_result"
    }
   ],
   "source": [
    "url=\"https://www.amazon.in/s/ref=nb_sb_noss_2?url=search-alias%3Daps&field-keywords=\"+newText\n",
    "url"
   ]
  },
  {
   "cell_type": "code",
   "execution_count": 4,
   "metadata": {},
   "outputs": [],
   "source": [
    "\n",
    "headers = {'User-agent': 'Mozilla/5.0 (Windows NT 6.2; WOW64) AppleWebKit/537.36 (KHTML, like Gecko) Chrome/37.0.2062.120 Safari/537.36'}\n",
    "r = requests.get(url, headers=headers)\n",
    "soup = BeautifulSoup(r.content, \"lxml\")\n",
    "#print(soup)"
   ]
  },
  {
   "cell_type": "code",
   "execution_count": 5,
   "metadata": {},
   "outputs": [
    {
     "data": {
      "text/plain": [
       "'https://www.amazon.in/Amazon-Brand-Solimo-Flexible-Transparent/dp/B075RFNV5G/ref=sr_1_1/259-2257564-3603421?ie=UTF8&qid=1538062521&sr=8-1&keywords=redmi+4'"
      ]
     },
     "execution_count": 5,
     "metadata": {},
     "output_type": "execute_result"
    }
   ],
   "source": [
    "data = soup.findAll('div',attrs={'class':'a-row a-spacing-none'})\n",
    "counter=0\n",
    "for div in data:\n",
    "    links = div.findAll('a')\n",
    "    for a in links:\n",
    "        if \"https://\" in a['href'] and \"spons\" not in a['href']:\n",
    "            counter+=1\n",
    "            if(counter==1):\n",
    "                newVar=a['href']\n",
    "newVar                "
   ]
  },
  {
   "cell_type": "code",
   "execution_count": null,
   "metadata": {},
   "outputs": [],
   "source": []
  },
  {
   "cell_type": "code",
   "execution_count": 6,
   "metadata": {},
   "outputs": [
    {
     "data": {
      "text/plain": [
       "<Response [200]>"
      ]
     },
     "execution_count": 6,
     "metadata": {},
     "output_type": "execute_result"
    }
   ],
   "source": [
    "newr = requests.get(newVar, headers=headers)\n",
    "newsoup = BeautifulSoup(newr.content, \"lxml\")\n",
    "#print(newsoup)\n",
    "newr"
   ]
  },
  {
   "cell_type": "code",
   "execution_count": 7,
   "metadata": {},
   "outputs": [
    {
     "data": {
      "text/plain": [
       "'https://images-na.ssl-images-amazon.com/images/I/61-CPPXrJnL._SL1000_.jpg'"
      ]
     },
     "execution_count": 7,
     "metadata": {},
     "output_type": "execute_result"
    }
   ],
   "source": [
    "img=' '\n",
    "img2=' '\n",
    "data =newsoup.findAll('div',attrs={'class':'imgTagWrapper'})\n",
    "for div in data:\n",
    "    links = div.findAll('img')\n",
    "    for a in links:\n",
    "        img=a['data-old-hires']\n",
    "if \"https://\" not in img :\n",
    "    for div in data:\n",
    "        links = div.findAll('img')\n",
    "        for a in links:\n",
    "            lnk=a['data-a-dynamic-image']\n",
    "            img=lnk.split(':[')[0][2:-1]  \n",
    "img        "
   ]
  },
  {
   "cell_type": "code",
   "execution_count": 8,
   "metadata": {},
   "outputs": [
    {
     "name": "stdout",
     "output_type": "stream",
     "text": [
      "Amazon Brand - Solimo Redmi 4 Mobile Cover (Soft Flexible Back case), Transparent\n"
     ]
    }
   ],
   "source": [
    "\n",
    "#getting name\n",
    "for tex in newsoup.find_all('h1',class_='a-size-large'):\n",
    "    fin=tex.text\n",
    "    print(fin.strip())\n",
    "    break"
   ]
  },
  {
   "cell_type": "code",
   "execution_count": null,
   "metadata": {},
   "outputs": [],
   "source": []
  },
  {
   "cell_type": "code",
   "execution_count": 10,
   "metadata": {},
   "outputs": [
    {
     "name": "stdout",
     "output_type": "stream",
     "text": [
      "    1,799.00\n"
     ]
    }
   ],
   "source": [
    "\n",
    "for price in newsoup.find_all(class_='a-text-strike'):\n",
    "    print(price.text)"
   ]
  },
  {
   "cell_type": "code",
   "execution_count": 11,
   "metadata": {},
   "outputs": [
    {
     "name": "stdout",
     "output_type": "stream",
     "text": [
      "   1,299.00\n"
     ]
    }
   ],
   "source": [
    "for pric in newsoup.find_all(id='priceblock_ourprice',class_='a-size-medium a-color-price'):\n",
    "    print(pric.text)"
   ]
  },
  {
   "cell_type": "code",
   "execution_count": 12,
   "metadata": {},
   "outputs": [],
   "source": [
    "def func():\n",
    "    j=1\n",
    "    i=0\n",
    "    return i,j"
   ]
  },
  {
   "cell_type": "code",
   "execution_count": 13,
   "metadata": {},
   "outputs": [],
   "source": [
    "t=func()"
   ]
  },
  {
   "cell_type": "code",
   "execution_count": 14,
   "metadata": {},
   "outputs": [
    {
     "data": {
      "text/plain": [
       "(0, 1)"
      ]
     },
     "execution_count": 14,
     "metadata": {},
     "output_type": "execute_result"
    }
   ],
   "source": [
    "t"
   ]
  },
  {
   "cell_type": "code",
   "execution_count": null,
   "metadata": {},
   "outputs": [],
   "source": []
  },
  {
   "cell_type": "code",
   "execution_count": null,
   "metadata": {},
   "outputs": [],
   "source": []
  }
 ],
 "metadata": {
  "kernelspec": {
   "display_name": "Python 3",
   "language": "python",
   "name": "python3"
  },
  "language_info": {
   "codemirror_mode": {
    "name": "ipython",
    "version": 3
   },
   "file_extension": ".py",
   "mimetype": "text/x-python",
   "name": "python",
   "nbconvert_exporter": "python",
   "pygments_lexer": "ipython3",
   "version": "3.6.5"
  }
 },
 "nbformat": 4,
 "nbformat_minor": 2
}
